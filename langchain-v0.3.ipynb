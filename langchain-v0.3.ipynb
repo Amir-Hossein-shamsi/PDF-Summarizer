{
 "cells": [
  {
   "cell_type": "code",
   "id": "initial_id",
   "metadata": {
    "collapsed": true
   },
   "source": [
    "\n",
    "\n",
    "import os\n",
    "groq_api_key = os.getenv(\"GROQ_API_KEY\", \"gsk_...\")"
   ],
   "outputs": [],
   "execution_count": null
  },
  {
   "metadata": {},
   "cell_type": "code",
   "source": [
    "from langchain_groq import ChatGroq\n",
    "from pydantic import BaseModel\n",
    "from langchain.agents import create_tool_calling_agent, AgentExecutor\n",
    "from langchain_core.output_parsers import PydanticOutputParser\n",
    "from langchain_core.prompts import  ChatPromptTemplate"
   ],
   "id": "ef0968219fece795",
   "outputs": [],
   "execution_count": null
  },
  {
   "metadata": {},
   "cell_type": "code",
   "source": [
    "llm = ChatGroq(\n",
    "    model=\"deepseek-r1-distill-llama-70b\",\n",
    "    temperature=0,\n",
    "    max_tokens=4000,\n",
    "    timeout=None,\n",
    "    api_key=groq_api_key,\n",
    ")\n"
   ],
   "id": "b6042699e3abe5f",
   "outputs": [],
   "execution_count": null
  },
  {
   "metadata": {},
   "cell_type": "code",
   "source": [
    "from langchain_community.document_loaders import PyMuPDFLoader\n",
    "import os\n",
    "import tiktoken\n",
    "\n",
    "# file_path = \"assets/serial Port persianmikrotik.ir.pdf\"\n",
    "# loader = PyMuPDFLoader(file_path)\n",
    "# docs=loader.load()\n",
    "\n",
    "\n",
    "pdf_path=[]\n",
    "for root, dirs, files in os.walk(\"./assets\"):\n",
    "    for file in files:\n",
    "        if file.endswith(\".pdf\"):\n",
    "            pdf_path.append(os.path.join(root, file))\n",
    "\n",
    "\n",
    "docs=[]\n",
    "for pdf in pdf_path:\n",
    "    loader = PyMuPDFLoader(pdf)\n",
    "    docs.extend(loader.load())\n",
    "\n",
    "\n",
    "def format_text(documents):\n",
    "    return '\\n\\n'.join([p.page_content for p in documents])\n",
    "\n",
    "\n",
    "context= format_text(docs)\n"
   ],
   "id": "d2cde758b15d5351",
   "outputs": [],
   "execution_count": null
  },
  {
   "metadata": {},
   "cell_type": "code",
   "source": [
    "import tiktoken\n",
    "encoding=tiktoken.encoding_for_model(\"gpt-4o-mini\")"
   ],
   "id": "ecdd540804930f83",
   "outputs": [],
   "execution_count": null
  },
  {
   "metadata": {},
   "cell_type": "code",
   "source": [
    "\n",
    "\n",
    "from langchain_core.output_parsers import StrOutputParser\n",
    "from langchain_core.prompts import (SystemMessagePromptTemplate, HumanMessagePromptTemplate,\n",
    "                                    ChatPromptTemplate)\n",
    "\n",
    "system = SystemMessagePromptTemplate.from_template(\"\"\"You are helpful AI assistant who works as document summarizer.\n",
    "                                                   You must not hallucinate or provide any false information.\"\"\")\n",
    "\n",
    "prompt = \"\"\"Summarize the given context in {words}.\n",
    "            ### Context:\n",
    "            {context}\n",
    "\n",
    "            ### Summary:\"\"\"\n",
    "\n",
    "prompt = HumanMessagePromptTemplate.from_template(prompt)\n",
    "\n",
    "messages = [system, prompt]\n",
    "template = ChatPromptTemplate(messages)\n",
    "\n",
    "summary_chain = template | llm | StrOutputParser()\n",
    "summary_chain\n"
   ],
   "id": "d6a2a7a64c246612",
   "outputs": [],
   "execution_count": null
  },
  {
   "metadata": {},
   "cell_type": "code",
   "source": [
    "response = summary_chain.invoke({'context': context[:5000], 'words': 50})\n",
    "print(response)"
   ],
   "id": "1bd198767d7f0578",
   "outputs": [],
   "execution_count": null
  }
 ],
 "metadata": {
  "kernelspec": {
   "display_name": "Python 3",
   "language": "python",
   "name": "python3"
  },
  "language_info": {
   "codemirror_mode": {
    "name": "ipython",
    "version": 2
   },
   "file_extension": ".py",
   "mimetype": "text/x-python",
   "name": "python",
   "nbconvert_exporter": "python",
   "pygments_lexer": "ipython2",
   "version": "2.7.6"
  }
 },
 "nbformat": 4,
 "nbformat_minor": 5
}
